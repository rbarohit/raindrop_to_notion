{
 "cells": [
  {
   "cell_type": "code",
   "execution_count": 1,
   "metadata": {},
   "outputs": [],
   "source": [
    "import requests"
   ]
  },
  {
   "cell_type": "code",
   "execution_count": 2,
   "metadata": {},
   "outputs": [],
   "source": [
    "token = 'secret_DA4TPtsfyPqyzIwciKXDdc9VHPl4LIu9tAflFegaVdD'\n",
    "database_id = '9bb469ff93f94d67b1f2cb8662cd0d3b'"
   ]
  },
  {
   "cell_type": "code",
   "execution_count": 4,
   "metadata": {},
   "outputs": [
    {
     "name": "stdout",
     "output_type": "stream",
     "text": [
      "{\"object\":\"page\",\"id\":\"8dfb226f-e004-41b8-9b45-2ebb8b571ca4\",\"created_time\":\"2024-06-02T10:15:00.000Z\",\"last_edited_time\":\"2024-06-02T10:15:00.000Z\",\"created_by\":{\"object\":\"user\",\"id\":\"f35be6d9-85d1-4c43-94c2-1957eaa7c150\"},\"last_edited_by\":{\"object\":\"user\",\"id\":\"f35be6d9-85d1-4c43-94c2-1957eaa7c150\"},\"cover\":null,\"icon\":null,\"parent\":{\"type\":\"database_id\",\"database_id\":\"9bb469ff-93f9-4d67-b1f2-cb8662cd0d3b\"},\"archived\":false,\"in_trash\":false,\"properties\":{\"Tags\":{\"id\":\"rbXY\",\"type\":\"multi_select\",\"multi_select\":[]},\"Name\":{\"id\":\"title\",\"type\":\"title\",\"title\":[{\"type\":\"text\",\"text\":{\"content\":\"New Entry\",\"link\":null},\"annotations\":{\"bold\":false,\"italic\":false,\"strikethrough\":false,\"underline\":false,\"code\":false,\"color\":\"default\"},\"plain_text\":\"New Entry\",\"href\":null}]}},\"url\":\"https://www.notion.so/New-Entry-8dfb226fe00441b89b452ebb8b571ca4\",\"public_url\":null,\"request_id\":\"66b09294-687f-428e-8706-11a44678beb8\"}\n"
     ]
    }
   ],
   "source": [
    "headers = {\n",
    "    \"Authorization\": f\"Bearer {token}\",\n",
    "    \"Content-Type\": \"application/json\",\n",
    "    \"Notion-Version\": \"2022-06-28\"  # Make sure this is the latest version available\n",
    "}\n",
    "\n",
    "# The data for the new database entry\n",
    "data = {\n",
    "    \"parent\": {\"database_id\": database_id},\n",
    "    \"properties\": {\n",
    "        \"Name\": {\n",
    "            \"title\": [\n",
    "                {\n",
    "                    \"text\": {\n",
    "                        \"content\": \"New Entry\"\n",
    "                    }\n",
    "                }\n",
    "            ]\n",
    "        }\n",
    "    }\n",
    "}\n",
    "\n",
    "# Make the HTTP request to create a new entry in the Notion database\n",
    "response = requests.post('https://api.notion.com/v1/pages', headers=headers, json=data)\n",
    "print(response.text)  # This prints the response from the Notion API"
   ]
  }
 ],
 "metadata": {
  "kernelspec": {
   "display_name": "base",
   "language": "python",
   "name": "python3"
  },
  "language_info": {
   "codemirror_mode": {
    "name": "ipython",
    "version": 3
   },
   "file_extension": ".py",
   "mimetype": "text/x-python",
   "name": "python",
   "nbconvert_exporter": "python",
   "pygments_lexer": "ipython3",
   "version": "3.8.8"
  }
 },
 "nbformat": 4,
 "nbformat_minor": 2
}
