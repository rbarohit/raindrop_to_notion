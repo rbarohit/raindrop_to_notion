{
 "cells": [
  {
   "cell_type": "code",
   "execution_count": 2,
   "metadata": {},
   "outputs": [],
   "source": [
    "import requests"
   ]
  },
  {
   "cell_type": "code",
   "execution_count": 3,
   "metadata": {},
   "outputs": [],
   "source": [
    "token = '639ad458-6c0a-4a52-9cf2-ddc13f072546'"
   ]
  },
  {
   "cell_type": "code",
   "execution_count": 4,
   "metadata": {},
   "outputs": [],
   "source": [
    "url = 'https://api.raindrop.io/rest/v1/collections'"
   ]
  },
  {
   "cell_type": "code",
   "execution_count": 5,
   "metadata": {},
   "outputs": [],
   "source": [
    "headers = {\n",
    "    'Authorization': f'Bearer {token}'\n",
    "}"
   ]
  },
  {
   "cell_type": "code",
   "execution_count": 6,
   "metadata": {},
   "outputs": [
    {
     "name": "stdout",
     "output_type": "stream",
     "text": [
      "Success:\n",
      "{'result': True, 'items': [{'_id': 44716846, 'title': 'Articles', 'description': '', 'user': {'$ref': 'users', '$id': 2188633}, 'public': False, 'view': 'list', 'count': 2, 'cover': [], 'sort': 0, 'expanded': True, 'creatorRef': {'_id': 2188633, 'name': 'rifat-rohit1412', 'email': ''}, 'lastAction': '2024-06-02T09:40:45.742Z', 'created': '2024-06-02T09:40:35.570Z', 'lastUpdate': '2024-06-02T09:40:45.742Z', 'slug': 'articles', 'access': {'for': 2188633, 'level': 4, 'root': False, 'draggable': True}, 'author': True}]}\n"
     ]
    }
   ],
   "source": [
    "response = requests.get(url, headers=headers)\n",
    "\n",
    "# Checking the response from the server\n",
    "if response.status_code == 200:\n",
    "    # If the response is successful, print the data\n",
    "    print('Success:')\n",
    "    print(response.json())\n",
    "else:\n",
    "    # If the response is an error, print the status code and message\n",
    "    print('Failed:')\n",
    "    print('Status code:', response.status_code)\n",
    "    print('Message:', response.text)"
   ]
  },
  {
   "cell_type": "code",
   "execution_count": 7,
   "metadata": {},
   "outputs": [
    {
     "name": "stdout",
     "output_type": "stream",
     "text": [
      "Collection ID: 44716846\n",
      "Raindrops Data:\n",
      "{'result': True, 'items': [{'_id': 794814410, 'link': 'https://bhavya11.medium.com/5-learnings-from-5-years-as-a-product-manager-c19c9b07fdc0', 'title': '5 Learnings from 5 Years as a Product Manager', 'excerpt': 'I had started writing about my learnings being a Product Manager after I completed a year of being one. At that time I had thought I’d…', 'note': '', 'type': 'article', 'user': {'$ref': 'users', '$id': 2188633}, 'cover': 'https://miro.medium.com/v2/resize:fit:1200/1*aMGF4mpoX6jsrj3Jd0U0Cg.png', 'media': [{'link': 'https://miro.medium.com/v2/resize:fit:1200/1*aMGF4mpoX6jsrj3Jd0U0Cg.png', 'type': 'image'}], 'tags': [], 'removed': False, 'collection': {'$ref': 'collections', '$id': 44716846, 'oid': 44716846}, 'created': '2024-06-02T09:19:54.102Z', 'lastUpdate': '2024-06-02T09:40:45.712Z', 'domain': 'bhavya11.medium.com', 'creatorRef': {'_id': 2188633, 'avatar': '', 'name': 'rifat-rohit1412', 'email': ''}, 'sort': 794816468, 'highlights': [{'text': '50% of a product manager’s learning happens at work and the rest 50% from the time invested in learning outside work', 'note': '', 'color': 'yellow', 'created': '2024-06-02T09:20:26.587Z', 'lastUpdate': '2024-06-02T09:21:14.304Z', 'creatorRef': 2188633, '_id': '665c395a35d8fe317ebca30d'}, {'text': 'The subsequent challenge arises when investors, the sales team, and company management seek impact and profitability, but the path appears elusive. This is due to accumulating features that we hesitate to retire, having invested considerable time and resources, resulting in an overly complex and unscalable product.', 'note': '', 'color': 'yellow', 'created': '2024-06-02T09:20:48.436Z', 'lastUpdate': '2024-06-02T09:21:14.304Z', 'creatorRef': 2188633, '_id': '665c397059e17999b94b617d'}, {'text': 'Prioritise ruthlessly and communicate clearly. For example, respond to each Slack notification with consideration for the context switch between deep work and quick replies.', 'note': '', 'color': 'yellow', 'created': '2024-06-02T09:21:05.926Z', 'lastUpdate': '2024-06-02T09:21:14.304Z', 'creatorRef': 2188633, '_id': '665c398159e17999b94b644c'}, {'text': 'As a product manager, owning the product end-to-end entails bearing responsibility for any shortcomings within teams. While the direct accountability rests with the respective teams, the PM is indirectly answerable. Although failures aren’t solely their fault, PMs often shoulder the responsibility, which can feel personally challenging, especially after investing substantial time and effort into a project.', 'note': '', 'color': 'yellow', 'created': '2024-06-02T09:21:14.304Z', 'lastUpdate': '2024-06-02T09:21:14.304Z', 'creatorRef': 2188633, '_id': '665c398a93e08513a66bd563'}], 'collectionId': 44716846}, {'_id': 794816468, 'link': 'https://productschool.com/blog/product-strategy/great-products-sit-intersection-tech-business', 'title': 'Great Products Sit at the Intersection of Tech and Business', 'excerpt': 'Product teams are evolving at the intersection of tech-business intersection, growing into leadership roles to drive innovation and build great products.', 'note': '', 'type': 'article', 'user': {'$ref': 'users', '$id': 2188633}, 'cover': 'https://images.ctfassets.net/6nwv0fapso8r/7D7rIuiKBN8vpEKvuABNtB/8c530b6c99e3e98c3dea27dcfbc9bcd7/Future_of_Product_Report_2024.jpg', 'media': [{'link': 'https://images.ctfassets.net/6nwv0fapso8r/7D7rIuiKBN8vpEKvuABNtB/8c530b6c99e3e98c3dea27dcfbc9bcd7/Future_of_Product_Report_2024.jpg', 'type': 'image'}], 'tags': [], 'removed': False, 'collection': {'$ref': 'collections', '$id': 44716846, 'oid': 44716846}, 'created': '2024-06-02T09:32:48.411Z', 'lastUpdate': '2024-06-02T09:40:41.510Z', 'domain': 'productschool.com', 'creatorRef': {'_id': 2188633, 'avatar': '', 'name': 'rifat-rohit1412', 'email': ''}, 'sort': 794816467, 'highlights': [{'text': 'A significant trend is reshaping the fabric of organizational structures: product teams are increasingly positioned at the crossroads of technology and business. This evolution signals a pivotal shift from traditional models where product teams were often siloed within the technical domain. Today, product teams are embracing a broader scope of responsibilities that bridge the gap between tech innovation and business strategy, presenting both new opportunities and challenges.', 'note': '', 'color': 'yellow', 'created': '2024-06-02T09:33:16.956Z', 'lastUpdate': '2024-06-02T09:35:02.181Z', 'creatorRef': 2188633, '_id': '665c3c5cd67b1d1d0ea1e02f'}, {'text': 'Product teams are no longer confined to the back end of product development; they are now central to the overarching business strategy, driving product vision and aligning it with market demands and business goals.', 'note': '', 'color': 'yellow', 'created': '2024-06-02T09:34:38.562Z', 'lastUpdate': '2024-06-02T09:35:02.181Z', 'creatorRef': 2188633, '_id': '665c3cae710634b8c1dfa1f7'}, {'text': 'Teams are expanding their skill sets beyond technical proficiency to include strategic thinking, market analysis, and user experience design', 'note': '', 'color': 'yellow', 'created': '2024-06-02T09:34:48.101Z', 'lastUpdate': '2024-06-02T09:35:02.181Z', 'creatorRef': 2188633, '_id': '665c3cb83054a8c65793925c'}, {'text': 'fostering a culture of collaboration, innovation, and strategic thinking. The focus is increasingly on the collective capability of the product team, led by a C-level executive who champions product-led growth.', 'note': '', 'color': 'yellow', 'created': '2024-06-02T09:35:02.180Z', 'lastUpdate': '2024-06-02T09:35:02.181Z', 'creatorRef': 2188633, '_id': '665c3cc6ad918bab6be40f1a'}], 'collectionId': 44716846}], 'count': 2, 'collectionId': 44716846}\n"
     ]
    }
   ],
   "source": [
    "collections_url = 'https://api.raindrop.io/rest/v1/collections'\n",
    "\n",
    "# Headers with authentication\n",
    "headers = {\n",
    "    'Authorization': f'Bearer {token}'\n",
    "}\n",
    "\n",
    "# Making the GET request to fetch collections\n",
    "collections_response = requests.get(collections_url, headers=headers)\n",
    "\n",
    "# Checking the response from the server\n",
    "if collections_response.status_code == 200:\n",
    "    # Parse the JSON response\n",
    "    collections_data = collections_response.json()\n",
    "    \n",
    "    # Assuming there is at least one collection and we are taking the first one\n",
    "    if collections_data['items']:\n",
    "        collection_id = collections_data['items'][0]['_id']\n",
    "        print('Collection ID:', collection_id)\n",
    "\n",
    "        # URL for the specific collection's raindrops\n",
    "        raindrops_url = f'https://api.raindrop.io/rest/v1/raindrops/{collection_id}'\n",
    "\n",
    "        # Making the GET request to fetch raindrops from the specific collection\n",
    "        raindrops_response = requests.get(raindrops_url, headers=headers)\n",
    "\n",
    "        # Checking the response for raindrops\n",
    "        if raindrops_response.status_code == 200:\n",
    "            print('Raindrops Data:')\n",
    "            print(raindrops_response.json())\n",
    "        else:\n",
    "            print('Failed to get raindrops:')\n",
    "            print('Status code:', raindrops_response.status_code)\n",
    "            print('Message:', raindrops_response.text)\n",
    "    else:\n",
    "        print('No collections found.')\n",
    "else:\n",
    "    print('Failed to get collections:')\n",
    "    print('Status code:', collections_response.status_code)\n",
    "    print('Message:', collections_response.text)"
   ]
  },
  {
   "cell_type": "code",
   "execution_count": 8,
   "metadata": {},
   "outputs": [
    {
     "name": "stdout",
     "output_type": "stream",
     "text": [
      "Details for Raindrop ID 794814410:\n",
      "{'result': True, 'item': {'_id': 794814410, 'link': 'https://bhavya11.medium.com/5-learnings-from-5-years-as-a-product-manager-c19c9b07fdc0', 'title': '5 Learnings from 5 Years as a Product Manager', 'excerpt': 'I had started writing about my learnings being a Product Manager after I completed a year of being one. At that time I had thought I’d…', 'note': '', 'type': 'article', 'user': {'$ref': 'users', '$id': 2188633}, 'cover': 'https://miro.medium.com/v2/resize:fit:1200/1*aMGF4mpoX6jsrj3Jd0U0Cg.png', 'media': [{'link': 'https://miro.medium.com/v2/resize:fit:1200/1*aMGF4mpoX6jsrj3Jd0U0Cg.png', 'type': 'image'}], 'tags': [], 'removed': False, 'collection': {'$ref': 'collections', '$id': 44716846, 'oid': 44716846}, 'created': '2024-06-02T09:19:54.102Z', 'lastUpdate': '2024-06-02T09:40:45.712Z', 'domain': 'bhavya11.medium.com', 'creatorRef': {'_id': 2188633, 'avatar': '', 'name': 'rifat-rohit1412', 'email': ''}, 'sort': 794816468, 'highlights': [{'text': '50% of a product manager’s learning happens at work and the rest 50% from the time invested in learning outside work', 'note': '', 'color': 'yellow', 'created': '2024-06-02T09:20:26.587Z', 'lastUpdate': '2024-06-02T09:21:14.304Z', 'creatorRef': {'_id': 2188633, 'avatar': '', 'name': 'rifat-rohit1412', 'email': ''}, '_id': '665c395a35d8fe317ebca30d'}, {'text': 'The subsequent challenge arises when investors, the sales team, and company management seek impact and profitability, but the path appears elusive. This is due to accumulating features that we hesitate to retire, having invested considerable time and resources, resulting in an overly complex and unscalable product.', 'note': '', 'color': 'yellow', 'created': '2024-06-02T09:20:48.436Z', 'lastUpdate': '2024-06-02T09:21:14.304Z', 'creatorRef': {'_id': 2188633, 'avatar': '', 'name': 'rifat-rohit1412', 'email': ''}, '_id': '665c397059e17999b94b617d'}, {'text': 'Prioritise ruthlessly and communicate clearly. For example, respond to each Slack notification with consideration for the context switch between deep work and quick replies.', 'note': '', 'color': 'yellow', 'created': '2024-06-02T09:21:05.926Z', 'lastUpdate': '2024-06-02T09:21:14.304Z', 'creatorRef': {'_id': 2188633, 'avatar': '', 'name': 'rifat-rohit1412', 'email': ''}, '_id': '665c398159e17999b94b644c'}, {'text': 'As a product manager, owning the product end-to-end entails bearing responsibility for any shortcomings within teams. While the direct accountability rests with the respective teams, the PM is indirectly answerable. Although failures aren’t solely their fault, PMs often shoulder the responsibility, which can feel personally challenging, especially after investing substantial time and effort into a project.', 'note': '', 'color': 'yellow', 'created': '2024-06-02T09:21:14.304Z', 'lastUpdate': '2024-06-02T09:21:14.304Z', 'creatorRef': {'_id': 2188633, 'avatar': '', 'name': 'rifat-rohit1412', 'email': ''}, '_id': '665c398a93e08513a66bd563'}], 'collectionId': 44716846}, 'author': True}\n",
      "Details for Raindrop ID 794816468:\n",
      "{'result': True, 'item': {'_id': 794816468, 'link': 'https://productschool.com/blog/product-strategy/great-products-sit-intersection-tech-business', 'title': 'Great Products Sit at the Intersection of Tech and Business', 'excerpt': 'Product teams are evolving at the intersection of tech-business intersection, growing into leadership roles to drive innovation and build great products.', 'note': '', 'type': 'article', 'user': {'$ref': 'users', '$id': 2188633}, 'cover': 'https://images.ctfassets.net/6nwv0fapso8r/7D7rIuiKBN8vpEKvuABNtB/8c530b6c99e3e98c3dea27dcfbc9bcd7/Future_of_Product_Report_2024.jpg', 'media': [{'link': 'https://images.ctfassets.net/6nwv0fapso8r/7D7rIuiKBN8vpEKvuABNtB/8c530b6c99e3e98c3dea27dcfbc9bcd7/Future_of_Product_Report_2024.jpg', 'type': 'image'}], 'tags': [], 'removed': False, 'collection': {'$ref': 'collections', '$id': 44716846, 'oid': 44716846}, 'created': '2024-06-02T09:32:48.411Z', 'lastUpdate': '2024-06-02T09:40:41.510Z', 'domain': 'productschool.com', 'creatorRef': {'_id': 2188633, 'avatar': '', 'name': 'rifat-rohit1412', 'email': ''}, 'sort': 794816467, 'highlights': [{'text': 'A significant trend is reshaping the fabric of organizational structures: product teams are increasingly positioned at the crossroads of technology and business. This evolution signals a pivotal shift from traditional models where product teams were often siloed within the technical domain. Today, product teams are embracing a broader scope of responsibilities that bridge the gap between tech innovation and business strategy, presenting both new opportunities and challenges.', 'note': '', 'color': 'yellow', 'created': '2024-06-02T09:33:16.956Z', 'lastUpdate': '2024-06-02T09:35:02.181Z', 'creatorRef': {'_id': 2188633, 'avatar': '', 'name': 'rifat-rohit1412', 'email': ''}, '_id': '665c3c5cd67b1d1d0ea1e02f'}, {'text': 'Product teams are no longer confined to the back end of product development; they are now central to the overarching business strategy, driving product vision and aligning it with market demands and business goals.', 'note': '', 'color': 'yellow', 'created': '2024-06-02T09:34:38.562Z', 'lastUpdate': '2024-06-02T09:35:02.181Z', 'creatorRef': {'_id': 2188633, 'avatar': '', 'name': 'rifat-rohit1412', 'email': ''}, '_id': '665c3cae710634b8c1dfa1f7'}, {'text': 'Teams are expanding their skill sets beyond technical proficiency to include strategic thinking, market analysis, and user experience design', 'note': '', 'color': 'yellow', 'created': '2024-06-02T09:34:48.101Z', 'lastUpdate': '2024-06-02T09:35:02.181Z', 'creatorRef': {'_id': 2188633, 'avatar': '', 'name': 'rifat-rohit1412', 'email': ''}, '_id': '665c3cb83054a8c65793925c'}, {'text': 'fostering a culture of collaboration, innovation, and strategic thinking. The focus is increasingly on the collective capability of the product team, led by a C-level executive who champions product-led growth.', 'note': '', 'color': 'yellow', 'created': '2024-06-02T09:35:02.180Z', 'lastUpdate': '2024-06-02T09:35:02.181Z', 'creatorRef': {'_id': 2188633, 'avatar': '', 'name': 'rifat-rohit1412', 'email': ''}, '_id': '665c3cc6ad918bab6be40f1a'}], 'collectionId': 44716846}, 'author': True}\n"
     ]
    }
   ],
   "source": [
    "base_url = 'https://api.raindrop.io/rest/v1/raindrop/'\n",
    "\n",
    "# Headers with authentication\n",
    "headers = {\n",
    "    'Authorization': f'Bearer {token}'\n",
    "}\n",
    "\n",
    "# Example response data, substitute with your actual response\n",
    "response_data = {\n",
    "    'result': True,\n",
    "    'items': [\n",
    "        {'_id': 794814410},\n",
    "        {'_id': 794816468}\n",
    "    ]\n",
    "}\n",
    "\n",
    "# Iterate over each item in the response\n",
    "for item in response_data['items']:\n",
    "    raindrop_id = item['_id']\n",
    "    raindrop_url = f\"{base_url}{raindrop_id}\"\n",
    "\n",
    "    # Making the GET request to fetch details for each raindrop\n",
    "    raindrop_response = requests.get(raindrop_url, headers=headers)\n",
    "\n",
    "    # Checking the response from the server\n",
    "    if raindrop_response.status_code == 200:\n",
    "        print(f'Details for Raindrop ID {raindrop_id}:')\n",
    "        print(raindrop_response.json())\n",
    "    else:\n",
    "        print(f'Failed to get details for Raindrop ID {raindrop_id}:')\n",
    "        print('Status code:', raindrop_response.status_code)\n",
    "        print('Message:', raindrop_response.text)"
   ]
  }
 ],
 "metadata": {
  "kernelspec": {
   "display_name": "base",
   "language": "python",
   "name": "python3"
  },
  "language_info": {
   "codemirror_mode": {
    "name": "ipython",
    "version": 3
   },
   "file_extension": ".py",
   "mimetype": "text/x-python",
   "name": "python",
   "nbconvert_exporter": "python",
   "pygments_lexer": "ipython3",
   "version": "3.8.8"
  }
 },
 "nbformat": 4,
 "nbformat_minor": 2
}
